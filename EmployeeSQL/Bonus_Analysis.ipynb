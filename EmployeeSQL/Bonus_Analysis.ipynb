{
 "cells": [
  {
   "cell_type": "markdown",
   "id": "63ea491a",
   "metadata": {},
   "source": [
    "## EmployeeSQL\n",
    "### Bonus Analysis\n",
    "\n"
   ]
  },
  {
   "cell_type": "code",
   "execution_count": 1,
   "id": "c584ff09",
   "metadata": {},
   "outputs": [],
   "source": [
    "## Dependencies\n",
    "import pandas as pd\n",
    "import matplotlib.pyplot as plt\n",
    "from sqlalchemy import create_engine\n",
    "\n",
    "## Import database parameters\n",
    "from config import db_host, db_name, db_user, db_password"
   ]
  },
  {
   "cell_type": "markdown",
   "id": "c95bd418",
   "metadata": {},
   "source": [
    "### 1. Set database connection"
   ]
  },
  {
   "cell_type": "code",
   "execution_count": 2,
   "id": "7a42cb42",
   "metadata": {},
   "outputs": [],
   "source": [
    "## Set SQLAlchemy Parameters\n",
    "engine = create_engine(f'postgresql://{db_user}:{db_password}@{db_host}/{db_name}')\n",
    "connection = engine.connect()"
   ]
  },
  {
   "cell_type": "code",
   "execution_count": 3,
   "id": "c48eb7b5",
   "metadata": {},
   "outputs": [
    {
     "name": "stdout",
     "output_type": "stream",
     "text": [
      "['title', 'employee', 'dept_employee', 'department', 'dept_manager', 'salary']\n"
     ]
    },
    {
     "name": "stderr",
     "output_type": "stream",
     "text": [
      "<ipython-input-3-a15e1b6fd915>:2: SADeprecationWarning: The Engine.table_names() method is deprecated and will be removed in a future release.  Please refer to Inspector.get_table_names(). (deprecated since: 1.4)\n",
      "  print(engine.table_names())\n"
     ]
    }
   ],
   "source": [
    "## Get table names\n",
    "print(engine.table_names())"
   ]
  },
  {
   "cell_type": "markdown",
   "id": "2e8e76bc",
   "metadata": {},
   "source": [
    "### 2. Import salary data from PostgreSQL database into Pandas"
   ]
  },
  {
   "cell_type": "code",
   "execution_count": 4,
   "id": "ad3d6c55",
   "metadata": {},
   "outputs": [],
   "source": [
    "## Build SQL statement\n",
    "sql_statement = \"SELECT * FROM salary\""
   ]
  },
  {
   "cell_type": "code",
   "execution_count": 5,
   "id": "35293766",
   "metadata": {},
   "outputs": [
    {
     "data": {
      "text/html": [
       "<div>\n",
       "<style scoped>\n",
       "    .dataframe tbody tr th:only-of-type {\n",
       "        vertical-align: middle;\n",
       "    }\n",
       "\n",
       "    .dataframe tbody tr th {\n",
       "        vertical-align: top;\n",
       "    }\n",
       "\n",
       "    .dataframe thead th {\n",
       "        text-align: right;\n",
       "    }\n",
       "</style>\n",
       "<table border=\"1\" class=\"dataframe\">\n",
       "  <thead>\n",
       "    <tr style=\"text-align: right;\">\n",
       "      <th></th>\n",
       "      <th>salary</th>\n",
       "    </tr>\n",
       "    <tr>\n",
       "      <th>emp_no</th>\n",
       "      <th></th>\n",
       "    </tr>\n",
       "  </thead>\n",
       "  <tbody>\n",
       "    <tr>\n",
       "      <th>10001</th>\n",
       "      <td>60117</td>\n",
       "    </tr>\n",
       "    <tr>\n",
       "      <th>10002</th>\n",
       "      <td>65828</td>\n",
       "    </tr>\n",
       "    <tr>\n",
       "      <th>10003</th>\n",
       "      <td>40006</td>\n",
       "    </tr>\n",
       "    <tr>\n",
       "      <th>10004</th>\n",
       "      <td>40054</td>\n",
       "    </tr>\n",
       "    <tr>\n",
       "      <th>10005</th>\n",
       "      <td>78228</td>\n",
       "    </tr>\n",
       "    <tr>\n",
       "      <th>...</th>\n",
       "      <td>...</td>\n",
       "    </tr>\n",
       "    <tr>\n",
       "      <th>499995</th>\n",
       "      <td>40000</td>\n",
       "    </tr>\n",
       "    <tr>\n",
       "      <th>499996</th>\n",
       "      <td>58058</td>\n",
       "    </tr>\n",
       "    <tr>\n",
       "      <th>499997</th>\n",
       "      <td>49597</td>\n",
       "    </tr>\n",
       "    <tr>\n",
       "      <th>499998</th>\n",
       "      <td>40000</td>\n",
       "    </tr>\n",
       "    <tr>\n",
       "      <th>499999</th>\n",
       "      <td>63707</td>\n",
       "    </tr>\n",
       "  </tbody>\n",
       "</table>\n",
       "<p>300024 rows × 1 columns</p>\n",
       "</div>"
      ],
      "text/plain": [
       "        salary\n",
       "emp_no        \n",
       "10001    60117\n",
       "10002    65828\n",
       "10003    40006\n",
       "10004    40054\n",
       "10005    78228\n",
       "...        ...\n",
       "499995   40000\n",
       "499996   58058\n",
       "499997   49597\n",
       "499998   40000\n",
       "499999   63707\n",
       "\n",
       "[300024 rows x 1 columns]"
      ]
     },
     "execution_count": 5,
     "metadata": {},
     "output_type": "execute_result"
    }
   ],
   "source": [
    "## Retrieve salary data from \"salary\" table into DataFrame\n",
    "salary_df = pd.read_sql(sql_statement, connection)\n",
    "## Set index\n",
    "salary_df.set_index('emp_no', drop=True, inplace=True)\n",
    "## Show DataFrame\n",
    "salary_df"
   ]
  },
  {
   "cell_type": "markdown",
   "id": "d8bb8d63",
   "metadata": {},
   "source": [
    "### 3. Visualize  most common salary ranges for employees (histogram)"
   ]
  },
  {
   "cell_type": "code",
   "execution_count": null,
   "id": "dc948cd6",
   "metadata": {},
   "outputs": [],
   "source": []
  },
  {
   "cell_type": "code",
   "execution_count": null,
   "id": "753e23d0",
   "metadata": {},
   "outputs": [],
   "source": []
  },
  {
   "cell_type": "code",
   "execution_count": null,
   "id": "66922ed0",
   "metadata": {},
   "outputs": [],
   "source": []
  },
  {
   "cell_type": "markdown",
   "id": "29754cab",
   "metadata": {},
   "source": [
    "### 4. Import salary summary from PostgreSQL database into Pandas"
   ]
  },
  {
   "cell_type": "code",
   "execution_count": 6,
   "id": "d274bc14",
   "metadata": {},
   "outputs": [],
   "source": [
    "## Build SQL statement\n",
    "sql_statement = 'SELECT t.title_name, COUNT(e.emp_no) AS \"emp_count\", AVG(s.salary) AS \"salary_avg\" \\\n",
    "                FROM employee AS e \\\n",
    "                LEFT JOIN title AS t ON e.title_id = t.title_id \\\n",
    "                LEFT JOIN salary AS s ON e.emp_no = s.emp_no \\\n",
    "                GROUP BY t.title_name \\\n",
    "                ORDER BY \"emp_count\" DESC;'"
   ]
  },
  {
   "cell_type": "code",
   "execution_count": 7,
   "id": "fd528af7",
   "metadata": {
    "scrolled": true
   },
   "outputs": [
    {
     "data": {
      "text/html": [
       "<div>\n",
       "<style scoped>\n",
       "    .dataframe tbody tr th:only-of-type {\n",
       "        vertical-align: middle;\n",
       "    }\n",
       "\n",
       "    .dataframe tbody tr th {\n",
       "        vertical-align: top;\n",
       "    }\n",
       "\n",
       "    .dataframe thead th {\n",
       "        text-align: right;\n",
       "    }\n",
       "</style>\n",
       "<table border=\"1\" class=\"dataframe\">\n",
       "  <thead>\n",
       "    <tr style=\"text-align: right;\">\n",
       "      <th></th>\n",
       "      <th>emp_count</th>\n",
       "      <th>salary_avg</th>\n",
       "    </tr>\n",
       "    <tr>\n",
       "      <th>title_name</th>\n",
       "      <th></th>\n",
       "      <th></th>\n",
       "    </tr>\n",
       "  </thead>\n",
       "  <tbody>\n",
       "    <tr>\n",
       "      <th>Staff</th>\n",
       "      <td>107384</td>\n",
       "      <td>58465.382850</td>\n",
       "    </tr>\n",
       "    <tr>\n",
       "      <th>Senior Engineer</th>\n",
       "      <td>97747</td>\n",
       "      <td>48506.799871</td>\n",
       "    </tr>\n",
       "    <tr>\n",
       "      <th>Engineer</th>\n",
       "      <td>47303</td>\n",
       "      <td>48535.336511</td>\n",
       "    </tr>\n",
       "    <tr>\n",
       "      <th>Senior Staff</th>\n",
       "      <td>26583</td>\n",
       "      <td>58550.172704</td>\n",
       "    </tr>\n",
       "    <tr>\n",
       "      <th>Technique Leader</th>\n",
       "      <td>15148</td>\n",
       "      <td>48582.896092</td>\n",
       "    </tr>\n",
       "    <tr>\n",
       "      <th>Assistant Engineer</th>\n",
       "      <td>5835</td>\n",
       "      <td>48564.434447</td>\n",
       "    </tr>\n",
       "    <tr>\n",
       "      <th>Manager</th>\n",
       "      <td>24</td>\n",
       "      <td>51531.041667</td>\n",
       "    </tr>\n",
       "  </tbody>\n",
       "</table>\n",
       "</div>"
      ],
      "text/plain": [
       "                    emp_count    salary_avg\n",
       "title_name                                 \n",
       "Staff                  107384  58465.382850\n",
       "Senior Engineer         97747  48506.799871\n",
       "Engineer                47303  48535.336511\n",
       "Senior Staff            26583  58550.172704\n",
       "Technique Leader        15148  48582.896092\n",
       "Assistant Engineer       5835  48564.434447\n",
       "Manager                    24  51531.041667"
      ]
     },
     "execution_count": 7,
     "metadata": {},
     "output_type": "execute_result"
    }
   ],
   "source": [
    "## Retrieve salary summary from SQL group by result into DataFrame\n",
    "summary_df = pd.read_sql(sql_statement, connection)\n",
    "## Set index\n",
    "summary_df.set_index('title_name', drop=True, inplace=True)\n",
    "## Show DataFrame\n",
    "summary_df"
   ]
  },
  {
   "cell_type": "markdown",
   "id": "2ee0f5e8",
   "metadata": {},
   "source": [
    "### 5. Visualize average salary per job title (bar plot)"
   ]
  },
  {
   "cell_type": "code",
   "execution_count": null,
   "id": "9b338c1b",
   "metadata": {},
   "outputs": [],
   "source": []
  },
  {
   "cell_type": "code",
   "execution_count": null,
   "id": "60bbf93b",
   "metadata": {},
   "outputs": [],
   "source": []
  },
  {
   "cell_type": "code",
   "execution_count": null,
   "id": "155d936b",
   "metadata": {},
   "outputs": [],
   "source": []
  }
 ],
 "metadata": {
  "kernelspec": {
   "display_name": "Python 3",
   "language": "python",
   "name": "python3"
  },
  "language_info": {
   "codemirror_mode": {
    "name": "ipython",
    "version": 3
   },
   "file_extension": ".py",
   "mimetype": "text/x-python",
   "name": "python",
   "nbconvert_exporter": "python",
   "pygments_lexer": "ipython3",
   "version": "3.8.8"
  }
 },
 "nbformat": 4,
 "nbformat_minor": 5
}
